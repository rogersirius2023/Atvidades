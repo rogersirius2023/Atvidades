{
  "nbformat": 4,
  "nbformat_minor": 0,
  "metadata": {
    "colab": {
      "private_outputs": true,
      "provenance": [],
      "authorship_tag": "ABX9TyMGOvB0B/+NB57vf5uu/ReZ",
      "include_colab_link": true
    },
    "kernelspec": {
      "name": "python3",
      "display_name": "Python 3"
    },
    "language_info": {
      "name": "python"
    }
  },
  "cells": [
    {
      "cell_type": "markdown",
      "metadata": {
        "id": "view-in-github",
        "colab_type": "text"
      },
      "source": [
        "<a href=\"https://colab.research.google.com/github/rogersirius2023/Atvidades/blob/main/Clustering_Semana4.ipynb\" target=\"_parent\"><img src=\"https://colab.research.google.com/assets/colab-badge.svg\" alt=\"Open In Colab\"/></a>"
      ]
    },
    {
      "cell_type": "markdown",
      "source": [
        "Agrupamento Hierárquico (Hierarchical Clustering)\n",
        "Há duas categorias de agrupamento hierárquico de dados: agrupamento aglomerativo e agrupamento divisivo. Vamos entender como essas duas estratégias de agrupamento funcionam.\n",
        "\n",
        "Aglomerativo: Esta é uma estratégia de agrupamento que usa a ideia de agrupar elementos \"de baixo para cima\", isto é, começa supondo que cada ponto é um grupo por si só e então vai unindo os grupos mais similares entre si para transformá-los em novos grupos maiores. Então começa-se com a maior quantidade possível de grupos (quantidade de observações nos dados) e termina com um único grupo.\n",
        "\n",
        "Divisivo: Esta é uma estratégia de agrupamento que usa a ideia de agrupar \"de cima para baixo\", sito é, começa com um único grupo contendo todas as observações e então vai subdividindo esse grupo em grupos menores de acordo com as dissimilares. Aqui podemos entender como os grupos se relacionam e o quanto são diferentes uns dos outros.\n",
        "\n",
        "Demonstraremos aqui o uso de técnicas de agrupamento hierárquico aglomerativo, que são mais utilizadas - e uma das principais razões se deve ao custo computacional, que é muito maior nas técnicas divisivas se comparado às técnicas aglomerativas.\n",
        "\n",
        "Para ambos os casos, os dendrogramas são uma excelente ferramenta gráfica para visualizar os as relações entre elementos e grupos."
      ],
      "metadata": {
        "id": "Qx8CQqljZwLs"
      }
    },
    {
      "cell_type": "code",
      "execution_count": null,
      "metadata": {
        "id": "3eKWO5ATZu-W"
      },
      "outputs": [],
      "source": [
        "import pandas as pd\n",
        "\n",
        "from google.colab import drive\n",
        "drive.mount('/content/drive')\n",
        "df = pd.read_excel('/content/drive/MyDrive/Atividades Siruis/Fonte dos Dados.xlsx')\n",
        "df.head()"
      ]
    },
    {
      "cell_type": "markdown",
      "source": [
        "Vamos selecionar apenas as variáveis % de pobres e Taxa de desemprego, assim como fizemos com o KMeans, para ter uma comparação das técnicas. Também vamos agrupar os dados por estado para trabalhar com uma quantidade menor de dados.\n",
        "\n",
        "Esse passo do agrupamento é importante, pois técnicas de agrupamento podem ser computacionalmente custosas para grandes conjuntos de dados, por conta da grande quantidade de distâncias que são calculadas para cada observação, conforme veremos a seguir."
      ],
      "metadata": {
        "id": "K_TEbFuxaS6p"
      }
    },
    {
      "cell_type": "code",
      "source": [
        "df2 = df[['estado','PIB Municipal','% de pobres', 'IDH',\n",
        "          'Média Salarial','Taxa de desemprego']]          \n",
        "df2 = df2.groupby(by='estado').mean()\n",
        "df2 = df2.reset_index()\n",
        "df2.head()      "
      ],
      "metadata": {
        "id": "h7dNVf9HaYD8"
      },
      "execution_count": null,
      "outputs": []
    },
    {
      "cell_type": "markdown",
      "source": [
        "Devemos sempre lembrar que técnicas que envolvem cálculo de distância entre observações devem ter os dados na mesma escala. Por isso vamos usar o StandardScaler, para mais detalhes veja a documentação."
      ],
      "metadata": {
        "id": "iad5aBoqCLb_"
      }
    },
    {
      "cell_type": "code",
      "source": [
        "from sklearn.preprocessing import StandardScaler\n",
        "scaler = StandardScaler()\n",
        "\n",
        "df_scaled  = df2.copy()\n",
        "\n",
        "df_scaled.drop('estado', inplace=True, axis=1)\n",
        "\n",
        "\n",
        "df_scaled[df_scaled.columns] = scaler.fit_transform(df_scaled)\n",
        "\n",
        "\n",
        "df_scaled['estado'] = df2['estado']\n",
        "\n",
        "df_scaled.head()"
      ],
      "metadata": {
        "id": "zZ3optBpCDS3"
      },
      "execution_count": null,
      "outputs": []
    },
    {
      "cell_type": "markdown",
      "source": [
        "Agrupamento Hierárquico Aglomerativo (com Scipy)\n",
        "Para este tipo de agrupamento podemos obter uma visualização interessante mostrando a relação entre os grupos: o dendograma.\n",
        "\n",
        "Para isso vamos importar as funções linkage e dendrogram da biblioteca SciPy\n",
        "\n",
        "Para mais informações, consulte linkage e dendrogram"
      ],
      "metadata": {
        "id": "SsWU7hxPEUOz"
      }
    },
    {
      "cell_type": "code",
      "source": [
        "from scipy.cluster.hierarchy import linkage, dendrogram"
      ],
      "metadata": {
        "id": "UUF9kJMfEVDx"
      },
      "execution_count": null,
      "outputs": []
    },
    {
      "cell_type": "markdown",
      "source": [
        "Para fazer o dendograma, primeiramente precisamos das distâncias, que é obtida com o uso da função linkage."
      ],
      "metadata": {
        "id": "x-f7XzDOEhGw"
      }
    },
    {
      "cell_type": "code",
      "source": [
        "distancias = linkage(df_scaled[['Taxa de desemprego','% de pobres']],\n",
        "                     method='ward',\n",
        "                     metric='euclidean')"
      ],
      "metadata": {
        "id": "pRaczJdPEh6m"
      },
      "execution_count": null,
      "outputs": []
    },
    {
      "cell_type": "markdown",
      "source": [
        "Podemos usar a função dendogram para visualizar o dendograma."
      ],
      "metadata": {
        "id": "IaP7oWEHEqsR"
      }
    },
    {
      "cell_type": "code",
      "source": [
        "import seaborn as sns\n",
        "sns.set(style='white', rc={'figure.figsize':(12,5)})\n",
        "\n",
        "dn = dendrogram(distancias,\n",
        "                leaf_font_size=9,\n",
        "                orientation='right',\n",
        "                labels=df_scaled['estado'].values)"
      ],
      "metadata": {
        "id": "BSBWf4lHErfE"
      },
      "execution_count": null,
      "outputs": []
    },
    {
      "cell_type": "markdown",
      "source": [
        "Analisando o dendograma podemos ver que se a distância variar de 4 a 8, a quantidade de grupos não varia, continuamos com 2 grupos. Isto indica que existem dois grupos bem distintos (distantes). Enquanto que se mudássemos nossa distância de 0.5 para 1, a quantidade grupos mudaria muito, indicando que vários desses grupos seriam muito similares (estariam muito próximos).\n",
        "\n",
        "A conclusão é que a quantidade ideal de grupos deve estar associada à uma quantidade fixa de grupos para grandes variações da distância. Podemos analisar o dendograma para escolher a quantidade de grupos de acordo com o que precisamos, levando em consideração as similaridades entre os grupos.\n",
        "\n",
        "Podemos também utilizar o dendograma e a função fcluster da biblioteca SciPy para automatizar esse processo."
      ],
      "metadata": {
        "id": "URIWZ7qzE-z6"
      }
    },
    {
      "cell_type": "code",
      "source": [
        "from scipy.cluster.hierarchy import fcluster\n",
        "max_d = 3\n",
        "grupos = fcluster(distancias, t=max_d, criterion='distance')\n",
        "grupos"
      ],
      "metadata": {
        "id": "_DZQwOpiFAdB"
      },
      "execution_count": null,
      "outputs": []
    },
    {
      "cell_type": "code",
      "source": [
        "grupos = fcluster(distancias, t=2, criterion='maxclust')\n",
        "grupos"
      ],
      "metadata": {
        "id": "sj0Rw3coFVZ7"
      },
      "execution_count": null,
      "outputs": []
    },
    {
      "cell_type": "markdown",
      "source": [
        "Vamos fazer um comparativo dos grupos obtidos através das duas técnicas (agrupamento hierárquico do algoritmo KMeans), representadas respectivamente pelo dendrograma e pelo gráfico de dispersão."
      ],
      "metadata": {
        "id": "4oaDGYUhFZxk"
      }
    },
    {
      "cell_type": "code",
      "source": [
        "# importando a biblioteca matplotlib\n",
        "import matplotlib.pyplot as plt\n",
        "\n",
        "sns.set(style='white', rc={'figure.figsize':(12,8)})\n",
        "fig, axs = plt.subplots(ncols=1, nrows=2)\n",
        "\n",
        "dn = dendrogram(distancias,\n",
        "                leaf_rotation=0,\n",
        "                leaf_font_size=9,\n",
        "                orientation='right',\n",
        "                labels=df_scaled['estado'].values,\n",
        "                ax=axs[0])\n",
        "\n",
        "# criando o gráfico de dispersão\n",
        "sns.scatterplot(data=df2, x='Taxa de desemprego', y='% de pobres',\n",
        "                hue=grupos, palette='tab10', ax=axs[1]);\n",
        "\n",
        "# criando listas que serviram de apoio para anotar a sigla de cada estado no gráfico\n",
        "desemp = df2['Taxa de desemprego']\n",
        "pobres = df2['% de pobres']\n",
        "estados = ['AC','AL','AP','AM','BA','CE','DF','ES','GO','MA','MT','MS','MG',\n",
        "           'PR','PB','PA','PE','PI','RN','RS','RJ','RO','RR','SC','SE','SP','TO']\n",
        "\n",
        "# anotando os 'nomes' de cada ponto\n",
        "for i, estado in enumerate(estados):\n",
        "    plt.annotate(estado, (desemp[i], pobres[i]) );"
      ],
      "metadata": {
        "id": "0-8-KNygFalh"
      },
      "execution_count": null,
      "outputs": []
    },
    {
      "cell_type": "markdown",
      "source": [
        "Podemos ver que obtivemos os mesmo grupos, de forma que não parece haver vantagem em usar o agrupamento hierárquico ou o KMeans. Mas, e se tivéssemos 4 grupos?\n",
        "\n",
        "Outra pergunta que poderíamos nos fazer é: quais grupos são mais similares entre si?\n",
        "\n",
        "Agora fica mais difícil responder isso apenas com base no gráfico de dispersão e na separação do KMeans, mas podemos ter uma ideia dessa similaridade observando o dendrograma.\n",
        "\n",
        "Também ficaria difícil visualizar essas relações se tivéssemos mais de 2 variáveis, pois teríamos que visualizar a dispersão dos pontos em um espaço multidimensional."
      ],
      "metadata": {
        "id": "_eoXe-pqGAqy"
      }
    },
    {
      "cell_type": "code",
      "source": [
        "grupos = fcluster(distancias, t=4, criterion='maxclust')\n",
        "\n",
        "sns.set(style='white', rc={'figure.figsize':(10,7)})\n",
        "fig, axs = plt.subplots(ncols=1, nrows=2)\n",
        "\n",
        "dn = dendrogram(distancias,\n",
        "                leaf_rotation=0,\n",
        "                leaf_font_size=9,\n",
        "                orientation='right',\n",
        "                labels=df_scaled['estado'].values,\n",
        "                ax=axs[0])\n",
        "\n",
        "# criando o gráfico de dispersão\n",
        "sns.scatterplot(data=df2, x='Taxa de desemprego', y='% de pobres',\n",
        "                hue=grupos, palette='tab10', ax=axs[1]);\n",
        "\n",
        "# criando listas que serviram de apoio para anotar a sigla de cada estado no gráfico\n",
        "desemp = df2['Taxa de desemprego']\n",
        "pobres = df2['% de pobres']\n",
        "estados = ['AC','AL','AP','AM','BA','CE','DF','ES','GO','MA','MT','MS','MG',\n",
        "           'PR','PB','PA','PE','PI','RN','RS','RJ','RO','RR','SC','SE','SP','TO']\n",
        "\n",
        "# importando a biblioteca matplotlib\n",
        "import matplotlib.pyplot as plt\n",
        "\n",
        "# anotando os 'nomes' de cada ponto\n",
        "for i, estado in enumerate(estados):\n",
        "    plt.annotate(estado, (desemp[i], pobres[i]) );"
      ],
      "metadata": {
        "id": "fFBhLKHhGCNa"
      },
      "execution_count": null,
      "outputs": []
    },
    {
      "cell_type": "markdown",
      "source": [
        "Análise dos Grupos\n",
        "Vamos agrupar os dados por grupos e entender melhor como são as características de cada grupo, a fim de identificar e entender melhor cada grupo."
      ],
      "metadata": {
        "id": "dNeS3NfgG0zc"
      }
    },
    {
      "cell_type": "code",
      "source": [
        "df2['grupo'] = grupos\n",
        "df2.head()"
      ],
      "metadata": {
        "id": "A_U-T-D7G1um"
      },
      "execution_count": null,
      "outputs": []
    },
    {
      "cell_type": "markdown",
      "source": [
        "Podemos ver que o PIB municipal do grupo 0 é bem maior que dos demais; a porcentagem de pobres do grupo 3 é muito menor que nos demais; o IDH é relativamente comparavável entre os grupos, assim como a média salarial; e a taxa de desemprego é bem menor no grupo 3."
      ],
      "metadata": {
        "id": "_kkWogkdHUyd"
      }
    },
    {
      "cell_type": "code",
      "source": [
        "# separando os grupos\n",
        "grupo1 = df2[df2['grupo'] == 1]\n",
        "grupo2 = df2[df2['grupo'] == 2]\n",
        "grupo3 = df2[df2['grupo'] == 3]\n",
        "grupo4 = df2[df2['grupo'] == 4]"
      ],
      "metadata": {
        "id": "Ya-eOYQRHVdI"
      },
      "execution_count": null,
      "outputs": []
    },
    {
      "cell_type": "code",
      "source": [
        "# estatísticas descritivas do grupo 1\n",
        "grupo1.describe()"
      ],
      "metadata": {
        "id": "af1T8xfmHgd0"
      },
      "execution_count": null,
      "outputs": []
    },
    {
      "cell_type": "code",
      "source": [
        "# características do grupo 1\n",
        "grupo1_lista = ['75% possui menos de 4.4e08',\n",
        "                '75% possui menos de 15%',\n",
        "                '75% possui mais de 6.4']"
      ],
      "metadata": {
        "id": "5ExDM8CZHo3p"
      },
      "execution_count": null,
      "outputs": []
    },
    {
      "cell_type": "code",
      "source": [
        "# estatísticas descritivas do grupo 2\n",
        "grupo2.describe()"
      ],
      "metadata": {
        "id": "eqhj6YfZHsRE"
      },
      "execution_count": null,
      "outputs": []
    },
    {
      "cell_type": "code",
      "source": [
        "# características do grupo 2\n",
        "grupo2_lista = ['75% possui menos de 4.8e08',\n",
        "                '75% possui mais de 38%',\n",
        "                '75% possui mais de 9.3']"
      ],
      "metadata": {
        "id": "ma2135NUHx-f"
      },
      "execution_count": null,
      "outputs": []
    },
    {
      "cell_type": "code",
      "source": [
        "# estatísticas descritivas do grupo 3\n",
        "grupo3.describe()"
      ],
      "metadata": {
        "id": "DgnQqUk0H1QV"
      },
      "execution_count": null,
      "outputs": []
    },
    {
      "cell_type": "code",
      "source": [
        "# características do grupo 3\n",
        "grupo3_lista = ['75% possui menos de 4.7e08',\n",
        "                '75% possui mais de 41.8%',\n",
        "                '75% possui mais de 7.2']"
      ],
      "metadata": {
        "id": "V1QEoC-UH5ba"
      },
      "execution_count": null,
      "outputs": []
    },
    {
      "cell_type": "code",
      "source": [
        "# estatísticas descritivas do grupo 4\n",
        "grupo4.describe()"
      ],
      "metadata": {
        "id": "-Txs9XcMH8mN"
      },
      "execution_count": null,
      "outputs": []
    },
    {
      "cell_type": "code",
      "source": [
        "# características do grupo 4\n",
        "grupo4_lista = ['75% mais de 5e08',\n",
        "                '75% possui menos de 8.3%',\n",
        "                '75% possui menos de 2.8']"
      ],
      "metadata": {
        "id": "veXRAEd0IAol"
      },
      "execution_count": null,
      "outputs": []
    },
    {
      "cell_type": "code",
      "source": [
        "dicio_grupos = {'grupo 1':grupo1_lista,\n",
        "                'grupo 2':grupo2_lista,\n",
        "                'grupo 3':grupo3_lista,\n",
        "                'grupo 4':grupo4_lista}"
      ],
      "metadata": {
        "id": "5clUKztIIDy6"
      },
      "execution_count": null,
      "outputs": []
    },
    {
      "cell_type": "code",
      "source": [
        "personas = pd.DataFrame(dicio_grupos, index=['PIB Municipal','% de pobres','Taxa desemprego'])\n",
        "personas"
      ],
      "metadata": {
        "id": "AYKVAOuzIQw-"
      },
      "execution_count": null,
      "outputs": []
    },
    {
      "cell_type": "markdown",
      "source": [
        "Uma maneira mais interessante de ver as características do grupos é através do boxplot."
      ],
      "metadata": {
        "id": "yUN7BCgzIU38"
      }
    },
    {
      "cell_type": "code",
      "source": [
        "sns.set(style='white', rc={'figure.figsize':(10,5)})\n",
        "\n",
        "# boxplot da variável PIB Minucipal\n",
        "sns.boxplot(data=df2, x='grupo', y='PIB Municipal');"
      ],
      "metadata": {
        "id": "fC-ld9aoIVsy"
      },
      "execution_count": null,
      "outputs": []
    },
    {
      "cell_type": "markdown",
      "source": [
        "Podemos ver que há um outlier no grupo 2, atrapalhando o entendimento deste e dos demasi grupos, vamos identificá-lo e removê-lo."
      ],
      "metadata": {
        "id": "S_dBc4knIiwo"
      }
    },
    {
      "cell_type": "code",
      "source": [
        "# observado o DataFrame\n",
        "df2"
      ],
      "metadata": {
        "id": "MkuslYjoIjqm"
      },
      "execution_count": null,
      "outputs": []
    },
    {
      "cell_type": "markdown",
      "source": [
        "Olhando a coluna PIB Municipal, podemos ver que o Distrito Federal tem uma valor muito maior que os demais, e portanto este é o outlier que aparece no boxplot."
      ],
      "metadata": {
        "id": "SrDXezb-Iss-"
      }
    },
    {
      "cell_type": "code",
      "source": [
        "# removendo o outlier\n",
        "df2.drop([6], axis=0, inplace=True)\n",
        "df2"
      ],
      "metadata": {
        "id": "gyxySxkdIte5"
      },
      "execution_count": null,
      "outputs": []
    },
    {
      "cell_type": "markdown",
      "source": [
        "Podemos observar que o índice 6 não está mais presente. Agora podemos refazer o boxplot para ter melhor entendimento da variável."
      ],
      "metadata": {
        "id": "vJQ82vAXJCfr"
      }
    },
    {
      "cell_type": "code",
      "source": [
        "# boxplot da variável PIB Minucipal\n",
        "sns.boxplot(data=df2, x='grupo', y='PIB Municipal');"
      ],
      "metadata": {
        "id": "HaOY3wj8JDSV"
      },
      "execution_count": null,
      "outputs": []
    },
    {
      "cell_type": "code",
      "source": [
        "# boxplot da variável Taxa de desemprego\n",
        "sns.boxplot(data=df2, x='grupo', y='Taxa de desemprego');"
      ],
      "metadata": {
        "id": "BO_pMNoyJPoW"
      },
      "execution_count": null,
      "outputs": []
    },
    {
      "cell_type": "code",
      "source": [
        "# boxplot da variável '% de pobres'\n",
        "sns.boxplot(data=df2, x='grupo', y='% de pobres');"
      ],
      "metadata": {
        "id": "tNkz-ERHJUIM"
      },
      "execution_count": null,
      "outputs": []
    },
    {
      "cell_type": "markdown",
      "source": [
        "Podemos então considerar que:\n",
        "\n",
        "O grupo 1 é o grupo que apresenta PIB municipal baixo, baixa taxa de desemprego e baixa porcentagem de pobres (Estados pobres com população rica e empregada).\n",
        "\n",
        "O grupo 2 é o grupo que possui PIB municipal pouco mais elevado (apesar do outlier) baixa porcentagem de pobres e moderada taxa de desemprego. (Estados ricos com alto emprego e população rica)\n",
        "\n",
        "O grupo 3 é o grupo e o grupo que apresenta PIB municipal moderado, taxa de desemprego moderada e alta porcentagem de pobres. (Estados com moderado desemprego e população pobre)\n",
        "\n",
        "O grupo 4 é o grupo que apresenta maior taxa de desemprego, alta porcentagem de pobres e baixo PIB municipal. (Estados pobres com alto desemprego e população pobre)\n",
        "\n",
        "A análise acima pode ser mais interessante do que a tabela personas, embora as duas sejam complementares. Pode-se perceber que o grupo 1 é formado por estados pobres cuja população é rica; o grupo 2 é composto por estados ricos em que a população empregada ganha melhor; o grupo 3 é estados nem ricos nem pobres com população pobre; o grupo 4 é composto por estados pobres com população ganhando mal.\n",
        "\n",
        "Essa identificação seria muito importante para nortear programas governamentais."
      ],
      "metadata": {
        "id": "QNmj_kliJZPO"
      }
    },
    {
      "cell_type": "code",
      "source": [],
      "metadata": {
        "id": "x95Gb-iBJafC"
      },
      "execution_count": null,
      "outputs": []
    }
  ]
}