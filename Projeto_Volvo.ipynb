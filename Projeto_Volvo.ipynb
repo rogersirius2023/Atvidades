{
  "nbformat": 4,
  "nbformat_minor": 0,
  "metadata": {
    "colab": {
      "private_outputs": true,
      "provenance": [],
      "authorship_tag": "ABX9TyMDOjMKlxDdUykiU95X/Yby",
      "include_colab_link": true
    },
    "kernelspec": {
      "name": "python3",
      "display_name": "Python 3"
    },
    "language_info": {
      "name": "python"
    }
  },
  "cells": [
    {
      "cell_type": "markdown",
      "metadata": {
        "id": "view-in-github",
        "colab_type": "text"
      },
      "source": [
        "<a href=\"https://colab.research.google.com/github/rogersirius2023/Atvidades/blob/main/Projeto_Volvo.ipynb\" target=\"_parent\"><img src=\"https://colab.research.google.com/assets/colab-badge.svg\" alt=\"Open In Colab\"/></a>"
      ]
    },
    {
      "cell_type": "code",
      "execution_count": null,
      "metadata": {
        "id": "XFpfXua3pRsE"
      },
      "outputs": [],
      "source": [
        "import pandas as pd\n",
        "from google.colab import drive\n",
        "drive.mount('/content/drive')\n",
        "df1 = pd.read_excel('/content/drive/MyDrive/Volvo/23w06_Equipamentos.xlsx')\n",
        "df2 = pd.read_excel('/content/drive/MyDrive/Volvo/23w06_SeriesTemporais_Horimetros.xlsx')"
      ]
    },
    {
      "cell_type": "code",
      "source": [
        "# Avaliando  todas as colunas \n",
        "pd.pandas.set_option('display.max_columns', None)\n",
        "df1.head()"
      ],
      "metadata": {
        "id": "BGDBFSwPqFSW"
      },
      "execution_count": null,
      "outputs": []
    },
    {
      "cell_type": "code",
      "source": [
        "# Excluir a colunas de (Obs)\n",
        "df1.drop('Obs.:', axis=1, inplace=True)\n",
        "df1.head()\n"
      ],
      "metadata": {
        "id": "jTG32tUBsQWz"
      },
      "execution_count": null,
      "outputs": []
    },
    {
      "cell_type": "code",
      "source": [
        "# Avaliando se a erro no DataFrame1\n",
        "df1.info()"
      ],
      "metadata": {
        "id": "R9iNlOWhGJhS"
      },
      "execution_count": null,
      "outputs": []
    },
    {
      "cell_type": "code",
      "source": [
        "# Avaliando as médias contagens df1\n",
        "df1.describe()"
      ],
      "metadata": {
        "id": "OEgL1TSXqcLZ"
      },
      "execution_count": null,
      "outputs": []
    },
    {
      "cell_type": "code",
      "source": [
        "# Avaliando  todas as colunas \n",
        "pd.pandas.set_option('display.max_columns', None)\n",
        "df2.head()"
      ],
      "metadata": {
        "id": "Q05Qh_NUqQMq"
      },
      "execution_count": null,
      "outputs": []
    },
    {
      "cell_type": "code",
      "source": [
        "df2.dropna(axis=1, how='all', inplace=True)\n",
        "df2.head()"
      ],
      "metadata": {
        "id": "VubUANtDMtOA"
      },
      "execution_count": null,
      "outputs": []
    },
    {
      "cell_type": "code",
      "source": [
        "# Avaliando se a erro no DataFrame2 \n",
        "df2.info()"
      ],
      "metadata": {
        "id": "gUBNEW_4GaX7"
      },
      "execution_count": null,
      "outputs": []
    },
    {
      "cell_type": "code",
      "source": [
        "df2.describe()"
      ],
      "metadata": {
        "id": "bgncHv7FsIQq"
      },
      "execution_count": null,
      "outputs": []
    },
    {
      "cell_type": "code",
      "source": [
        "#Avaliando DataFrame1\n",
        "df1.head()"
      ],
      "metadata": {
        "id": "9qyx2nrRHJ2a"
      },
      "execution_count": null,
      "outputs": []
    },
    {
      "cell_type": "code",
      "source": [
        "#Avaliando DataFrame2\n",
        "df2.head()"
      ],
      "metadata": {
        "id": "HAxp2D2tL1d7"
      },
      "execution_count": null,
      "outputs": []
    },
    {
      "cell_type": "code",
      "source": [
        "df2.describe()"
      ],
      "metadata": {
        "id": "uezQ7LnUNFfC"
      },
      "execution_count": null,
      "outputs": []
    },
    {
      "cell_type": "code",
      "source": [
        "df_combined = pd.concat([df1, df2], axis=0)\n",
        "df_combined.head()\n"
      ],
      "metadata": {
        "id": "Zg3w-xV1Pdue"
      },
      "execution_count": null,
      "outputs": []
    },
    {
      "cell_type": "code",
      "source": [],
      "metadata": {
        "id": "rvsmOnH3ZFPv"
      },
      "execution_count": null,
      "outputs": []
    }
  ]
}