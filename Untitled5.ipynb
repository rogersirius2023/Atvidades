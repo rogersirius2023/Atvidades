{
  "nbformat": 4,
  "nbformat_minor": 0,
  "metadata": {
    "colab": {
      "provenance": [],
      "authorship_tag": "ABX9TyNMnEGl8ohBpJpvfK1lvm5i",
      "include_colab_link": true
    },
    "kernelspec": {
      "name": "python3",
      "display_name": "Python 3"
    },
    "language_info": {
      "name": "python"
    }
  },
  "cells": [
    {
      "cell_type": "markdown",
      "metadata": {
        "id": "view-in-github",
        "colab_type": "text"
      },
      "source": [
        "<a href=\"https://colab.research.google.com/github/rogersirius2023/Atvidades/blob/main/Untitled5.ipynb\" target=\"_parent\"><img src=\"https://colab.research.google.com/assets/colab-badge.svg\" alt=\"Open In Colab\"/></a>"
      ]
    },
    {
      "cell_type": "code",
      "execution_count": null,
      "metadata": {
        "id": "dEOh1rGlYmqE"
      },
      "outputs": [],
      "source": []
    },
    {
      "cell_type": "markdown",
      "source": [
        "\n",
        "Teste de Hipótese"
      ],
      "metadata": {
        "id": "f8AqLGi6Yra1"
      }
    },
    {
      "cell_type": "code",
      "source": [
        "import pandas as pd"
      ],
      "metadata": {
        "id": "8Gds6uwxYsNX"
      },
      "execution_count": null,
      "outputs": []
    },
    {
      "cell_type": "code",
      "source": [
        "df = pd.read_excel('Fonte dos Dados.xlsx')\n",
        "df.head()"
      ],
      "metadata": {
        "colab": {
          "base_uri": "https://localhost:8080/",
          "height": 403
        },
        "id": "RWYa4cjmZc8K",
        "outputId": "f4db3c55-4515-4706-82e4-6920ee0987e1"
      },
      "execution_count": null,
      "outputs": [
        {
          "output_type": "execute_result",
          "data": {
            "text/plain": [
              "  nomeLocalidade estado  População residente  Densidade demográfica  \\\n",
              "0     Acrelândia   Acre                12538                   6.93   \n",
              "1   Assis Brasil   Acre                 6072                   1.22   \n",
              "2      Brasiléia   Acre                21398                   5.46   \n",
              "3         Bujari   Acre                 8471                   2.79   \n",
              "4       Capixaba   Acre                 8798                   5.17   \n",
              "\n",
              "   Porcentagem de Jovens  Porcentagem de Ativos  Porcentagem de Idosos  \\\n",
              "0                  52.92                  43.04                   4.04   \n",
              "1                  55.58                  40.07                   4.35   \n",
              "2                  51.88                  42.76                   5.37   \n",
              "3                  52.71                  42.60                   4.69   \n",
              "4                  53.92                  41.92                   4.16   \n",
              "\n",
              "   Taxa de Urbanização  Taxa de Saneamento Básico  \\\n",
              "0                48.34                       0.00   \n",
              "1                65.30                       2.39   \n",
              "2                70.02                      21.27   \n",
              "3                44.07                       0.16   \n",
              "4                44.60                       0.82   \n",
              "\n",
              "   Ativos com Baixo Nível Educacional  ...  \\\n",
              "0                               75.34  ...   \n",
              "1                               66.83  ...   \n",
              "2                               70.67  ...   \n",
              "3                               71.05  ...   \n",
              "4                               77.90  ...   \n",
              "\n",
              "   Percentual de empresas do setor terciário em relação ao total  \\\n",
              "0                                              75.41               \n",
              "1                                             100.00               \n",
              "2                                              83.85               \n",
              "3                                              53.33               \n",
              "4                                              62.50               \n",
              "\n",
              "   Percentual de trabalhadores do setor primário em relação ao total  \\\n",
              "0                                               8.86                   \n",
              "1                                               0.60                   \n",
              "2                                               2.53                   \n",
              "3                                              31.34                   \n",
              "4                                               4.30                   \n",
              "\n",
              "   Percentual de trabalhadores do setor secundário em relação ao total  \\\n",
              "0                                              21.53                     \n",
              "1                                               0.00                     \n",
              "2                                              17.70                     \n",
              "3                                               1.04                     \n",
              "4                                              30.37                     \n",
              "\n",
              "   Percentual de trabalhadores do setor terciário em relação ao total  \\\n",
              "0                                              34.07                    \n",
              "1                                              36.25                    \n",
              "2                                              33.83                    \n",
              "3                                              29.40                    \n",
              "4                                              10.32                    \n",
              "\n",
              "   Média Salarial  Produtividade  Taxa de desemprego dos jovens  \\\n",
              "0          994.67     2654247.23                          19.17   \n",
              "1         1163.49     2113108.99                          10.57   \n",
              "2          818.65     2376384.22                          11.13   \n",
              "3          897.30     2668575.85                           9.76   \n",
              "4          843.49     2803488.37                           6.35   \n",
              "\n",
              "   Taxa de desemprego  \\\n",
              "0                9.62   \n",
              "1                7.44   \n",
              "2                5.96   \n",
              "3                3.41   \n",
              "4                4.14   \n",
              "\n",
              "   Número de trabalhadores(Comerciais, hotéis e restaurantes) por 1,000 habitantes  \\\n",
              "0                                              12.12                                 \n",
              "1                                              17.79                                 \n",
              "2                                              14.58                                 \n",
              "3                                               5.78                                 \n",
              "4                                               7.73                                 \n",
              "\n",
              "   Número de ativos culturais e de lazer por 10,000 habitantes  \n",
              "0                                                0.0            \n",
              "1                                                0.0            \n",
              "2                                                0.0            \n",
              "3                                                0.0            \n",
              "4                                                0.0            \n",
              "\n",
              "[5 rows x 40 columns]"
            ],
            "text/html": [
              "\n",
              "  <div id=\"df-59b1fa93-7cd3-45e9-9039-7029cd473f1f\">\n",
              "    <div class=\"colab-df-container\">\n",
              "      <div>\n",
              "<style scoped>\n",
              "    .dataframe tbody tr th:only-of-type {\n",
              "        vertical-align: middle;\n",
              "    }\n",
              "\n",
              "    .dataframe tbody tr th {\n",
              "        vertical-align: top;\n",
              "    }\n",
              "\n",
              "    .dataframe thead th {\n",
              "        text-align: right;\n",
              "    }\n",
              "</style>\n",
              "<table border=\"1\" class=\"dataframe\">\n",
              "  <thead>\n",
              "    <tr style=\"text-align: right;\">\n",
              "      <th></th>\n",
              "      <th>nomeLocalidade</th>\n",
              "      <th>estado</th>\n",
              "      <th>População residente</th>\n",
              "      <th>Densidade demográfica</th>\n",
              "      <th>Porcentagem de Jovens</th>\n",
              "      <th>Porcentagem de Ativos</th>\n",
              "      <th>Porcentagem de Idosos</th>\n",
              "      <th>Taxa de Urbanização</th>\n",
              "      <th>Taxa de Saneamento Básico</th>\n",
              "      <th>Ativos com Baixo Nível Educacional</th>\n",
              "      <th>...</th>\n",
              "      <th>Percentual de empresas do setor terciário em relação ao total</th>\n",
              "      <th>Percentual de trabalhadores do setor primário em relação ao total</th>\n",
              "      <th>Percentual de trabalhadores do setor secundário em relação ao total</th>\n",
              "      <th>Percentual de trabalhadores do setor terciário em relação ao total</th>\n",
              "      <th>Média Salarial</th>\n",
              "      <th>Produtividade</th>\n",
              "      <th>Taxa de desemprego dos jovens</th>\n",
              "      <th>Taxa de desemprego</th>\n",
              "      <th>Número de trabalhadores(Comerciais, hotéis e restaurantes) por 1,000 habitantes</th>\n",
              "      <th>Número de ativos culturais e de lazer por 10,000 habitantes</th>\n",
              "    </tr>\n",
              "  </thead>\n",
              "  <tbody>\n",
              "    <tr>\n",
              "      <th>0</th>\n",
              "      <td>Acrelândia</td>\n",
              "      <td>Acre</td>\n",
              "      <td>12538</td>\n",
              "      <td>6.93</td>\n",
              "      <td>52.92</td>\n",
              "      <td>43.04</td>\n",
              "      <td>4.04</td>\n",
              "      <td>48.34</td>\n",
              "      <td>0.00</td>\n",
              "      <td>75.34</td>\n",
              "      <td>...</td>\n",
              "      <td>75.41</td>\n",
              "      <td>8.86</td>\n",
              "      <td>21.53</td>\n",
              "      <td>34.07</td>\n",
              "      <td>994.67</td>\n",
              "      <td>2654247.23</td>\n",
              "      <td>19.17</td>\n",
              "      <td>9.62</td>\n",
              "      <td>12.12</td>\n",
              "      <td>0.0</td>\n",
              "    </tr>\n",
              "    <tr>\n",
              "      <th>1</th>\n",
              "      <td>Assis Brasil</td>\n",
              "      <td>Acre</td>\n",
              "      <td>6072</td>\n",
              "      <td>1.22</td>\n",
              "      <td>55.58</td>\n",
              "      <td>40.07</td>\n",
              "      <td>4.35</td>\n",
              "      <td>65.30</td>\n",
              "      <td>2.39</td>\n",
              "      <td>66.83</td>\n",
              "      <td>...</td>\n",
              "      <td>100.00</td>\n",
              "      <td>0.60</td>\n",
              "      <td>0.00</td>\n",
              "      <td>36.25</td>\n",
              "      <td>1163.49</td>\n",
              "      <td>2113108.99</td>\n",
              "      <td>10.57</td>\n",
              "      <td>7.44</td>\n",
              "      <td>17.79</td>\n",
              "      <td>0.0</td>\n",
              "    </tr>\n",
              "    <tr>\n",
              "      <th>2</th>\n",
              "      <td>Brasiléia</td>\n",
              "      <td>Acre</td>\n",
              "      <td>21398</td>\n",
              "      <td>5.46</td>\n",
              "      <td>51.88</td>\n",
              "      <td>42.76</td>\n",
              "      <td>5.37</td>\n",
              "      <td>70.02</td>\n",
              "      <td>21.27</td>\n",
              "      <td>70.67</td>\n",
              "      <td>...</td>\n",
              "      <td>83.85</td>\n",
              "      <td>2.53</td>\n",
              "      <td>17.70</td>\n",
              "      <td>33.83</td>\n",
              "      <td>818.65</td>\n",
              "      <td>2376384.22</td>\n",
              "      <td>11.13</td>\n",
              "      <td>5.96</td>\n",
              "      <td>14.58</td>\n",
              "      <td>0.0</td>\n",
              "    </tr>\n",
              "    <tr>\n",
              "      <th>3</th>\n",
              "      <td>Bujari</td>\n",
              "      <td>Acre</td>\n",
              "      <td>8471</td>\n",
              "      <td>2.79</td>\n",
              "      <td>52.71</td>\n",
              "      <td>42.60</td>\n",
              "      <td>4.69</td>\n",
              "      <td>44.07</td>\n",
              "      <td>0.16</td>\n",
              "      <td>71.05</td>\n",
              "      <td>...</td>\n",
              "      <td>53.33</td>\n",
              "      <td>31.34</td>\n",
              "      <td>1.04</td>\n",
              "      <td>29.40</td>\n",
              "      <td>897.30</td>\n",
              "      <td>2668575.85</td>\n",
              "      <td>9.76</td>\n",
              "      <td>3.41</td>\n",
              "      <td>5.78</td>\n",
              "      <td>0.0</td>\n",
              "    </tr>\n",
              "    <tr>\n",
              "      <th>4</th>\n",
              "      <td>Capixaba</td>\n",
              "      <td>Acre</td>\n",
              "      <td>8798</td>\n",
              "      <td>5.17</td>\n",
              "      <td>53.92</td>\n",
              "      <td>41.92</td>\n",
              "      <td>4.16</td>\n",
              "      <td>44.60</td>\n",
              "      <td>0.82</td>\n",
              "      <td>77.90</td>\n",
              "      <td>...</td>\n",
              "      <td>62.50</td>\n",
              "      <td>4.30</td>\n",
              "      <td>30.37</td>\n",
              "      <td>10.32</td>\n",
              "      <td>843.49</td>\n",
              "      <td>2803488.37</td>\n",
              "      <td>6.35</td>\n",
              "      <td>4.14</td>\n",
              "      <td>7.73</td>\n",
              "      <td>0.0</td>\n",
              "    </tr>\n",
              "  </tbody>\n",
              "</table>\n",
              "<p>5 rows × 40 columns</p>\n",
              "</div>\n",
              "      <button class=\"colab-df-convert\" onclick=\"convertToInteractive('df-59b1fa93-7cd3-45e9-9039-7029cd473f1f')\"\n",
              "              title=\"Convert this dataframe to an interactive table.\"\n",
              "              style=\"display:none;\">\n",
              "        \n",
              "  <svg xmlns=\"http://www.w3.org/2000/svg\" height=\"24px\"viewBox=\"0 0 24 24\"\n",
              "       width=\"24px\">\n",
              "    <path d=\"M0 0h24v24H0V0z\" fill=\"none\"/>\n",
              "    <path d=\"M18.56 5.44l.94 2.06.94-2.06 2.06-.94-2.06-.94-.94-2.06-.94 2.06-2.06.94zm-11 1L8.5 8.5l.94-2.06 2.06-.94-2.06-.94L8.5 2.5l-.94 2.06-2.06.94zm10 10l.94 2.06.94-2.06 2.06-.94-2.06-.94-.94-2.06-.94 2.06-2.06.94z\"/><path d=\"M17.41 7.96l-1.37-1.37c-.4-.4-.92-.59-1.43-.59-.52 0-1.04.2-1.43.59L10.3 9.45l-7.72 7.72c-.78.78-.78 2.05 0 2.83L4 21.41c.39.39.9.59 1.41.59.51 0 1.02-.2 1.41-.59l7.78-7.78 2.81-2.81c.8-.78.8-2.07 0-2.86zM5.41 20L4 18.59l7.72-7.72 1.47 1.35L5.41 20z\"/>\n",
              "  </svg>\n",
              "      </button>\n",
              "      \n",
              "  <style>\n",
              "    .colab-df-container {\n",
              "      display:flex;\n",
              "      flex-wrap:wrap;\n",
              "      gap: 12px;\n",
              "    }\n",
              "\n",
              "    .colab-df-convert {\n",
              "      background-color: #E8F0FE;\n",
              "      border: none;\n",
              "      border-radius: 50%;\n",
              "      cursor: pointer;\n",
              "      display: none;\n",
              "      fill: #1967D2;\n",
              "      height: 32px;\n",
              "      padding: 0 0 0 0;\n",
              "      width: 32px;\n",
              "    }\n",
              "\n",
              "    .colab-df-convert:hover {\n",
              "      background-color: #E2EBFA;\n",
              "      box-shadow: 0px 1px 2px rgba(60, 64, 67, 0.3), 0px 1px 3px 1px rgba(60, 64, 67, 0.15);\n",
              "      fill: #174EA6;\n",
              "    }\n",
              "\n",
              "    [theme=dark] .colab-df-convert {\n",
              "      background-color: #3B4455;\n",
              "      fill: #D2E3FC;\n",
              "    }\n",
              "\n",
              "    [theme=dark] .colab-df-convert:hover {\n",
              "      background-color: #434B5C;\n",
              "      box-shadow: 0px 1px 3px 1px rgba(0, 0, 0, 0.15);\n",
              "      filter: drop-shadow(0px 1px 2px rgba(0, 0, 0, 0.3));\n",
              "      fill: #FFFFFF;\n",
              "    }\n",
              "  </style>\n",
              "\n",
              "      <script>\n",
              "        const buttonEl =\n",
              "          document.querySelector('#df-59b1fa93-7cd3-45e9-9039-7029cd473f1f button.colab-df-convert');\n",
              "        buttonEl.style.display =\n",
              "          google.colab.kernel.accessAllowed ? 'block' : 'none';\n",
              "\n",
              "        async function convertToInteractive(key) {\n",
              "          const element = document.querySelector('#df-59b1fa93-7cd3-45e9-9039-7029cd473f1f');\n",
              "          const dataTable =\n",
              "            await google.colab.kernel.invokeFunction('convertToInteractive',\n",
              "                                                     [key], {});\n",
              "          if (!dataTable) return;\n",
              "\n",
              "          const docLinkHtml = 'Like what you see? Visit the ' +\n",
              "            '<a target=\"_blank\" href=https://colab.research.google.com/notebooks/data_table.ipynb>data table notebook</a>'\n",
              "            + ' to learn more about interactive tables.';\n",
              "          element.innerHTML = '';\n",
              "          dataTable['output_type'] = 'display_data';\n",
              "          await google.colab.output.renderOutput(dataTable, element);\n",
              "          const docLink = document.createElement('div');\n",
              "          docLink.innerHTML = docLinkHtml;\n",
              "          element.appendChild(docLink);\n",
              "        }\n",
              "      </script>\n",
              "    </div>\n",
              "  </div>\n",
              "  "
            ]
          },
          "metadata": {},
          "execution_count": 3
        }
      ]
    },
    {
      "cell_type": "code",
      "source": [
        "df_acre = df[df['estado'] == 'Acre']"
      ],
      "metadata": {
        "id": "xVSEVdRmZkt1"
      },
      "execution_count": null,
      "outputs": []
    },
    {
      "cell_type": "code",
      "source": [
        "import seaborn as sns"
      ],
      "metadata": {
        "id": "XtKRcR49aCVn"
      },
      "execution_count": null,
      "outputs": []
    },
    {
      "cell_type": "code",
      "source": [
        "sns.histplot(data=df_acre, x='Densidade demográfica', stat='probability');"
      ],
      "metadata": {
        "colab": {
          "base_uri": "https://localhost:8080/",
          "height": 450
        },
        "id": "YJ0Chu-MaFk-",
        "outputId": "7b7c66ec-3752-40c4-b3bf-742dc0277f22"
      },
      "execution_count": null,
      "outputs": [
        {
          "output_type": "display_data",
          "data": {
            "text/plain": [
              "<Figure size 640x480 with 1 Axes>"
            ],
            "image/png": "[encoded data removed]"
          },
          "metadata": {}
        }
      ]
    },
    {
      "cell_type": "markdown",
      "source": [
        "Passo a Passo do Teste de Hipótese\n",
        "1) Enunciar a hipótese nula (a hipótese nula é aquela que deseja-se rejeitar)\n",
        "\n",
        "2) Enunciar a hipótese alternativa\n",
        "\n",
        "3) Fixar o nível de significância  α \n",
        "\n",
        "4) Identificar a distribuição de probabilidade adequada ao teste\n",
        "\n",
        "5) Calcular o valor da estatística correspondente com base na amostra\n",
        "\n",
        "6) Conclusão: rejeição ou aceitação da hipótese nula\n",
        "\n",
        "Para o nosso exemplo vamos considerar um nível de significância de 95%.\n",
        "\n",
        "Neste caso temos um teste unicaudal com as hipóteses nula e alternativa dadas por:\n",
        "\n",
        "H0:μ≥10\n",
        "Ha:μ<10"
      ],
      "metadata": {
        "id": "Wcez3RBUbl_b"
      }
    },
    {
      "cell_type": "code",
      "source": [
        "from scipy.stats import ttest_1samp\n",
        "\n",
        "ttest_1samp(a=df_acre['Densidade demográfica'], popmean=10, alternative='less')"
      ],
      "metadata": {
        "colab": {
          "base_uri": "https://localhost:8080/"
        },
        "id": "-hBj7kJ6bnZR",
        "outputId": "c857fa00-01ee-4891-cb13-dcbb36fb927a"
      },
      "execution_count": null,
      "outputs": [
        {
          "output_type": "execute_result",
          "data": {
            "text/plain": [
              "TtestResult(statistic=-2.6716745995243176, pvalue=0.007138776001662828, df=21)"
            ]
          },
          "metadata": {},
          "execution_count": 8
        }
      ]
    },
    {
      "cell_type": "markdown",
      "source": [
        "Teste de Hipótese para a Média (duas variáveis independentes)\n",
        "O teste t para duas amostras independentes é um teste de hipótese usado para verificar se há diferença estatística significante entre as médias de dois grupos.\n",
        "\n",
        "O teste t é válido sob certas suposições:\n",
        "\n",
        "distribuições populacionais normais\n",
        "amostras possuem variância igual\n",
        "as amostras são independentes\n",
        "Em geral, neste teste de hipótese as hipóteses nula e alternativa serão um dos três tipos abaixo. Isto é, queremos testar se a diferença entre as médias populacionais é comparável com um certo valor  D0 , que em geral será 0 quando se quer testar a hipótese de as médias serem iguais.\n",
        "\n",
        "H0:μ1−μ2≤D0 \n",
        "Ha:μ1−μ2>D0 \n",
        "\n",
        "ou\n",
        "\n",
        "H0:μ1−μ2≥D0 \n",
        "Ha:μ1−μ2<D0 \n",
        "\n",
        "ou\n",
        "\n",
        "H0:μ1−μ2=D0 \n",
        "Ha:μ1−μ2≠D0 \n",
        "\n",
        "Exemplo 2: Teste a hipótese de que as médias da taxa de urbanização são iguais para os estados do Paraná e de São Paulo. Considere um nível de confiança de 95%.\n",
        "Dica: Para realizar o teste t para duas amostra independentes pode-se usar a função scipy.stats.ttest_ind() passando os dois grupos como argumentos. Esta função retornará dois valores: o valor t calculado e o p-valor.\n",
        "\n",
        "Outra Dica: Para selecionar os valores de interesse, primeiro selecione apenas a coluna de interesse e após aplique uma condição que filtre as linhas de interesse. Algo da forma df[coluna][condicao para as linhas]\n",
        "\n",
        "[ ]\n"
      ],
      "metadata": {
        "id": "9VtsaA0Wdh9I"
      }
    },
    {
      "cell_type": "code",
      "source": [
        "from scipy.stats import ttest_ind\n",
        "\n",
        "ttest_ind(df['Taxa de Urbanização'][df['estado'] == 'Paraná'],\n",
        "          df['Taxa de Urbanização'][df['estado'] == 'São Paulo'])"
      ],
      "metadata": {
        "colab": {
          "base_uri": "https://localhost:8080/"
        },
        "id": "h1sgCXcwdjvL",
        "outputId": "cb3cf786-ec00-48c6-9f88-fcff4881a50b"
      },
      "execution_count": null,
      "outputs": [
        {
          "output_type": "execute_result",
          "data": {
            "text/plain": [
              "Ttest_indResult(statistic=-13.516575492569645, pvalue=1.7770979303401817e-38)"
            ]
          },
          "metadata": {},
          "execution_count": 9
        }
      ]
    },
    {
      "cell_type": "code",
      "source": [
        "df_PR = df[df['estado'] == 'Paraná']\n",
        "df_SP = df[df['estado'] == 'São Paulo']\n",
        "\n",
        "df_final = pd.concat([df_PR, df_SP])\n",
        "sns.boxplot(x=df_final['estado'], y=df_final['Taxa de Urbanização']);"
      ],
      "metadata": {
        "colab": {
          "base_uri": "https://localhost:8080/",
          "height": 449
        },
        "id": "t6riAPc8elDp",
        "outputId": "f3412784-e9e0-4410-8e90-9c11d420cfab"
      },
      "execution_count": null,
      "outputs": [
        {
          "output_type": "display_data",
          "data": {
            "text/plain": [
              "<Figure size 640x480 with 1 Axes>"
            ],
            "image/png": "[encoded data removed]"
          },
          "metadata": {}
        }
      ]
    },
    {
      "cell_type": "markdown",
      "source": [
        "Teste de Hipótese para a Média (duas variáveis dependentes)\n",
        "Neste caso queremos testar a hipótese de haver diferença entre a médias de dois grupos que são dependentes (estão relacionados) um com o outro. Isto é muito comum quando avaliamos o mesmo grupo de pessoas antes e depois de uma dieta, de um treinamento ou situações do gênero.\n",
        "\n",
        "Em geral, neste teste de hipótese as hipóteses nula e alternativa serão um dos três tipos abaixo. Isto é, queremos testar se a diferença entre as médias populacionais é comparável com um certo valor  D0 , que em geral será 0 quando se quer testar a hipótese de as médias serem iguais.\n",
        "\n",
        "H0:μ1−μ2≤D0 \n",
        "Ha:μ1−μ2>D0 \n",
        "\n",
        "ou\n",
        "\n",
        "H0:μ1−μ2≥D0 \n",
        "Ha:μ1−μ2<D0 \n",
        "\n",
        "ou\n",
        "\n",
        "H0:μ1−μ2=D0 \n",
        "Ha:μ1−μ2≠D0 \n",
        "\n",
        "Neste caso pode se proceder como no exemplo anterior, mas usando a função scipy.stats.ttest_rel(). Para mais detalhes clique aqui\n",
        "\n",
        "Análise de Variância (ANOVA) One-Way\n",
        "É um procedimento usado para comparar a distribuição de três ou mais grupos em amostras independentes.\n",
        "\n",
        "A ANOVA possui alguns pressupostos:\n",
        "\n",
        "Observações devem ser independentes;\n",
        "Os grupos comparados apresentam a mesma variância;\n",
        "Os erros são independentes e seguem uma distribuição normal com média zero e variância constante.\n",
        "Podemos pensar que cada grupo foi observado sob influência de algum fator de interesse em estudo. Por exemplo, queremos saber se a produção de leite é influenciada por diferentes marcas de ração; neste caso teríamos diferentes grupos de animais, cada um alimentado exclusivamente com uma determinada ração, e poderíamos pensar nesse grupo como sendo diferentes observações do fator ração.\n",
        "\n",
        "Se os grupos apresentarem mesma variabilidade (como no pressuposto) e mesma média, então suas distribuições tendem a se sobrepor o que nos permite concluir que os grupos não possuem diferenças fundamentais entre si, ou seja, os fatores não influenciam o fenômeno em estudo.\n",
        "\n",
        "Vamos comparar a média da taxa de saneamento básico para os três estados da região sul para ver se esta média pode ser considerada igual. Considere um nível de confiança de 95%\n",
        "Dica: Crie três dataframes auxiliares, um para cada estado."
      ],
      "metadata": {
        "id": "NuRpbcmvf5L3"
      }
    },
    {
      "cell_type": "code",
      "source": [
        "df_PR = df[df['estado'] == 'Paraná']\n",
        "df_SC = df[df['estado'] == 'Santa Catarina']\n",
        "df_RS = df[df['estado'] == 'Rio Grande do Sul']"
      ],
      "metadata": {
        "id": "iij6YNx_f6e1"
      },
      "execution_count": null,
      "outputs": []
    },
    {
      "cell_type": "code",
      "source": [
        "from scipy.stats import f_oneway\n",
        "\n",
        "f_oneway(df_PR['Taxa de Saneamento Básico'],\n",
        "         df_SC['Taxa de Saneamento Básico'],\n",
        "         df_RS['Taxa de Saneamento Básico'])"
      ],
      "metadata": {
        "colab": {
          "base_uri": "https://localhost:8080/"
        },
        "id": "gzPeZQeCipnt",
        "outputId": "c707265e-44e5-45a7-f3c8-0aa203988e72"
      },
      "execution_count": null,
      "outputs": [
        {
          "output_type": "execute_result",
          "data": {
            "text/plain": [
              "F_onewayResult(statistic=9.82746143065408, pvalue=5.8478563172868316e-05)"
            ]
          },
          "metadata": {},
          "execution_count": 12
        }
      ]
    },
    {
      "cell_type": "code",
      "source": [
        "df_final = pd.concat([df_PR, df_SC, df_RS])\n",
        "\n",
        "sns.boxplot(x=df_final['estado'], y=df_final['Taxa de Saneamento Básico']);"
      ],
      "metadata": {
        "colab": {
          "base_uri": "https://localhost:8080/",
          "height": 449
        },
        "id": "oQ9DRMrCjmK2",
        "outputId": "550a0365-fd85-4ab8-bd60-d510f0814496"
      },
      "execution_count": null,
      "outputs": [
        {
          "output_type": "display_data",
          "data": {
            "text/plain": [
              "<Figure size 640x480 with 1 Axes>"
            ],
            "image/png": "[encoded data removed]"
          },
          "metadata": {}
        }
      ]
    },
    {
      "cell_type": "markdown",
      "source": [
        "Vamos fazer um teste Post-hoc para verificar se de fato é o estado do Paraná tem média diferente dos demais estados.\n",
        "Isto é, agora que sabemos que pelo menos um dos estados possui uma taxa de saneamento básico diferente dos demais, queremos encontrar qual é este estado. Este teste pode ser realizado com a função statsmodels.stats.multicomp.pairwise_tukeyhsd() da biblioteca statsmodels."
      ],
      "metadata": {
        "id": "tej8s9stkAL9"
      }
    },
    {
      "cell_type": "code",
      "source": [
        "from statsmodels.stats.multicomp import pairwise_tukeyhsd\n",
        "\n",
        "print(pairwise_tukeyhsd(endog = df_final['Taxa de Saneamento Básico'],\n",
        "                  groups = df_final['estado'],\n",
        "                  alpha = 0.05)\n",
        ")"
      ],
      "metadata": {
        "colab": {
          "base_uri": "https://localhost:8080/"
        },
        "id": "n1SjaY4skBVQ",
        "outputId": "ea4c7002-5d67-4e4a-c081-f7dccae3e31a"
      },
      "execution_count": null,
      "outputs": [
        {
          "output_type": "stream",
          "name": "stdout",
          "text": [
            "            Multiple Comparison of Means - Tukey HSD, FWER=0.05            \n",
            "===========================================================================\n",
            "      group1            group2      meandiff p-adj   lower    upper  reject\n",
            "---------------------------------------------------------------------------\n",
            "           Paraná Rio Grande do Sul  -4.4925 0.0057  -7.8995 -1.0854   True\n",
            "           Paraná    Santa Catarina  -7.1034 0.0001 -11.0012 -3.2055   True\n",
            "Rio Grande do Sul    Santa Catarina  -2.6109 0.2287  -6.3439  1.1221  False\n",
            "---------------------------------------------------------------------------\n"
          ]
        }
      ]
    }
  ]
}